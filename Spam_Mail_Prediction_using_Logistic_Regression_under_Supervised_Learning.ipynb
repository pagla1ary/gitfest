{
  "nbformat": 4,
  "nbformat_minor": 0,
  "metadata": {
    "colab": {
      "name": "Spam Mail Prediction using Logistic Regression under Supervised Learning",
      "provenance": [],
      "collapsed_sections": [],
      "mount_file_id": "10Q2ihgA9meTjNo31900Cy4_SWHGttMIa",
      "authorship_tag": "ABX9TyN6L2T1QRZfUAZEWN06IPIO",
      "include_colab_link": true
    },
    "kernelspec": {
      "name": "python3",
      "display_name": "Python 3"
    },
    "language_info": {
      "name": "python"
    }
  },
  "cells": [
    {
      "cell_type": "markdown",
      "metadata": {
        "id": "view-in-github",
        "colab_type": "text"
      },
      "source": [
        "<a href=\"https://colab.research.google.com/github/pagla1ary/gitfest/blob/main/Spam_Mail_Prediction_using_Logistic_Regression_under_Supervised_Learning.ipynb\" target=\"_parent\"><img src=\"https://colab.research.google.com/assets/colab-badge.svg\" alt=\"Open In Colab\"/></a>"
      ]
    },
    {
      "cell_type": "markdown",
      "metadata": {
        "id": "mvm7wJ1gE8F1"
      },
      "source": [
        "Two types of mails:\n",
        "\n",
        "1) Spam mails - promotion mails , discount mails,  Free entries,etc.\n",
        "\n",
        "2) Ham mails = Sent by your friend, relative, family,etc. (non-spam)"
      ]
    },
    {
      "cell_type": "markdown",
      "metadata": {
        "id": "x2mYsB4XFV_k"
      },
      "source": [
        "WORK FLOW:\n",
        "\n",
        "1)Mail data \n",
        "\n",
        "2) Data Preprocessing\n",
        "\n",
        "3) Training and Testing data\n",
        "\n",
        "4) Logistic Regression model - it is best for binary classification problems which means 2 classes (span and ham)\n",
        "\n",
        "5) New mail - trained logistic regression model - spam or ham prediction"
      ]
    },
    {
      "cell_type": "markdown",
      "metadata": {
        "id": "IEGlTeSVrzYl"
      },
      "source": [
        "1) IMPORTING THE DEPENDANCES"
      ]
    },
    {
      "cell_type": "code",
      "metadata": {
        "id": "y1-d40Yir4Dp"
      },
      "source": [
        "import pandas as pd\n",
        "import numpy as np\n",
        "from sklearn.model_selection import train_test_split\n",
        "from sklearn.feature_extraction.text import TfidfVectorizer\n",
        "from sklearn.metrics import accuracy_score                          # It is used to find how our model is performation or making right predictions\n",
        "from sklearn.linear_model import LogisticRegression"
      ],
      "execution_count": null,
      "outputs": []
    },
    {
      "cell_type": "markdown",
      "metadata": {
        "id": "PUrdwr71tw1M"
      },
      "source": [
        "2) DATA COLLECTION AND PREPROCESSING"
      ]
    },
    {
      "cell_type": "code",
      "metadata": {
        "colab": {
          "base_uri": "https://localhost:8080/"
        },
        "id": "M_1RFk_qsltZ",
        "outputId": "bc8be616-1048-4fe6-b977-707b077c4fca"
      },
      "source": [
        "raw_mail_data = pd.read_csv('/content/drive/MyDrive/Machine Learning/mail_data.csv')\n",
        "print(raw_mail_data)"
      ],
      "execution_count": null,
      "outputs": [
        {
          "output_type": "stream",
          "name": "stdout",
          "text": [
            "     Category                                            Message\n",
            "0         ham  Go until jurong point, crazy.. Available only ...\n",
            "1         ham                      Ok lar... Joking wif u oni...\n",
            "2        spam  Free entry in 2 a wkly comp to win FA Cup fina...\n",
            "3         ham  U dun say so early hor... U c already then say...\n",
            "4         ham  Nah I don't think he goes to usf, he lives aro...\n",
            "...       ...                                                ...\n",
            "5567     spam  This is the 2nd time we have tried 2 contact u...\n",
            "5568      ham               Will ü b going to esplanade fr home?\n",
            "5569      ham  Pity, * was in mood for that. So...any other s...\n",
            "5570      ham  The guy did some bitching but I acted like i'd...\n",
            "5571      ham                         Rofl. Its true to its name\n",
            "\n",
            "[5572 rows x 2 columns]\n"
          ]
        }
      ]
    },
    {
      "cell_type": "code",
      "metadata": {
        "colab": {
          "base_uri": "https://localhost:8080/"
        },
        "id": "-0E2c7Fxs5cm",
        "outputId": "af8894a4-1940-4737-ff3e-1df07132d229"
      },
      "source": [
        "raw_mail_data.info()"
      ],
      "execution_count": null,
      "outputs": [
        {
          "output_type": "stream",
          "name": "stdout",
          "text": [
            "<class 'pandas.core.frame.DataFrame'>\n",
            "RangeIndex: 5572 entries, 0 to 5571\n",
            "Data columns (total 2 columns):\n",
            " #   Column    Non-Null Count  Dtype \n",
            "---  ------    --------------  ----- \n",
            " 0   Category  5572 non-null   object\n",
            " 1   Message   5572 non-null   object\n",
            "dtypes: object(2)\n",
            "memory usage: 87.2+ KB\n"
          ]
        }
      ]
    },
    {
      "cell_type": "code",
      "metadata": {
        "colab": {
          "base_uri": "https://localhost:8080/"
        },
        "id": "-clgAE7UtC_B",
        "outputId": "abfee152-8163-4504-bc52-ceae9876a991"
      },
      "source": [
        "#Checking number of missing values\n",
        "raw_mail_data.isnull().sum()"
      ],
      "execution_count": null,
      "outputs": [
        {
          "output_type": "execute_result",
          "data": {
            "text/plain": [
              "Category    0\n",
              "Message     0\n",
              "dtype: int64"
            ]
          },
          "metadata": {},
          "execution_count": 11
        }
      ]
    },
    {
      "cell_type": "code",
      "metadata": {
        "id": "VFQ7-KgBzsqe"
      },
      "source": [
        "# Filling null values if we had by null string \n",
        "for mail in raw_mail_data:\n",
        "  raw_mail_data[mail] = raw_mail_data[mail].fillna('')\n",
        "\n",
        "  "
      ],
      "execution_count": null,
      "outputs": []
    },
    {
      "cell_type": "markdown",
      "metadata": {
        "id": "8vASh6yk0ms_"
      },
      "source": [
        "OR for filling null values with empty string we use"
      ]
    },
    {
      "cell_type": "code",
      "metadata": {
        "colab": {
          "base_uri": "https://localhost:8080/",
          "height": 202
        },
        "id": "FRKAcvqg0rjM",
        "outputId": "a18786f8-ee06-48e2-d499-7bd02033ef00"
      },
      "source": [
        "mail_data = raw_mail_data.where((pd.notnull(raw_mail_data)),'')         # 'where' function is used to carry out a condition\n",
        "mail_data.head()"
      ],
      "execution_count": null,
      "outputs": [
        {
          "output_type": "execute_result",
          "data": {
            "text/html": [
              "<div>\n",
              "<style scoped>\n",
              "    .dataframe tbody tr th:only-of-type {\n",
              "        vertical-align: middle;\n",
              "    }\n",
              "\n",
              "    .dataframe tbody tr th {\n",
              "        vertical-align: top;\n",
              "    }\n",
              "\n",
              "    .dataframe thead th {\n",
              "        text-align: right;\n",
              "    }\n",
              "</style>\n",
              "<table border=\"1\" class=\"dataframe\">\n",
              "  <thead>\n",
              "    <tr style=\"text-align: right;\">\n",
              "      <th></th>\n",
              "      <th>Category</th>\n",
              "      <th>Message</th>\n",
              "    </tr>\n",
              "  </thead>\n",
              "  <tbody>\n",
              "    <tr>\n",
              "      <th>0</th>\n",
              "      <td>ham</td>\n",
              "      <td>Go until jurong point, crazy.. Available only ...</td>\n",
              "    </tr>\n",
              "    <tr>\n",
              "      <th>1</th>\n",
              "      <td>ham</td>\n",
              "      <td>Ok lar... Joking wif u oni...</td>\n",
              "    </tr>\n",
              "    <tr>\n",
              "      <th>2</th>\n",
              "      <td>spam</td>\n",
              "      <td>Free entry in 2 a wkly comp to win FA Cup fina...</td>\n",
              "    </tr>\n",
              "    <tr>\n",
              "      <th>3</th>\n",
              "      <td>ham</td>\n",
              "      <td>U dun say so early hor... U c already then say...</td>\n",
              "    </tr>\n",
              "    <tr>\n",
              "      <th>4</th>\n",
              "      <td>ham</td>\n",
              "      <td>Nah I don't think he goes to usf, he lives aro...</td>\n",
              "    </tr>\n",
              "  </tbody>\n",
              "</table>\n",
              "</div>"
            ],
            "text/plain": [
              "  Category                                            Message\n",
              "0      ham  Go until jurong point, crazy.. Available only ...\n",
              "1      ham                      Ok lar... Joking wif u oni...\n",
              "2     spam  Free entry in 2 a wkly comp to win FA Cup fina...\n",
              "3      ham  U dun say so early hor... U c already then say...\n",
              "4      ham  Nah I don't think he goes to usf, he lives aro..."
            ]
          },
          "metadata": {},
          "execution_count": 6
        }
      ]
    },
    {
      "cell_type": "code",
      "metadata": {
        "colab": {
          "base_uri": "https://localhost:8080/",
          "height": 171
        },
        "id": "ex6qLkPRtMnq",
        "outputId": "c05c5b12-425d-4ffc-d86e-0d865c208c81"
      },
      "source": [
        "raw_mail_data.describe()"
      ],
      "execution_count": null,
      "outputs": [
        {
          "output_type": "execute_result",
          "data": {
            "text/html": [
              "<div>\n",
              "<style scoped>\n",
              "    .dataframe tbody tr th:only-of-type {\n",
              "        vertical-align: middle;\n",
              "    }\n",
              "\n",
              "    .dataframe tbody tr th {\n",
              "        vertical-align: top;\n",
              "    }\n",
              "\n",
              "    .dataframe thead th {\n",
              "        text-align: right;\n",
              "    }\n",
              "</style>\n",
              "<table border=\"1\" class=\"dataframe\">\n",
              "  <thead>\n",
              "    <tr style=\"text-align: right;\">\n",
              "      <th></th>\n",
              "      <th>Category</th>\n",
              "      <th>Message</th>\n",
              "    </tr>\n",
              "  </thead>\n",
              "  <tbody>\n",
              "    <tr>\n",
              "      <th>count</th>\n",
              "      <td>5572</td>\n",
              "      <td>5572</td>\n",
              "    </tr>\n",
              "    <tr>\n",
              "      <th>unique</th>\n",
              "      <td>2</td>\n",
              "      <td>5157</td>\n",
              "    </tr>\n",
              "    <tr>\n",
              "      <th>top</th>\n",
              "      <td>ham</td>\n",
              "      <td>Sorry, I'll call later</td>\n",
              "    </tr>\n",
              "    <tr>\n",
              "      <th>freq</th>\n",
              "      <td>4825</td>\n",
              "      <td>30</td>\n",
              "    </tr>\n",
              "  </tbody>\n",
              "</table>\n",
              "</div>"
            ],
            "text/plain": [
              "       Category                 Message\n",
              "count      5572                    5572\n",
              "unique        2                    5157\n",
              "top         ham  Sorry, I'll call later\n",
              "freq       4825                      30"
            ]
          },
          "metadata": {},
          "execution_count": 12
        }
      ]
    },
    {
      "cell_type": "code",
      "metadata": {
        "colab": {
          "base_uri": "https://localhost:8080/"
        },
        "id": "NVejgRapudfa",
        "outputId": "3941a2b1-9d3f-4213-d382-2e6624b6d801"
      },
      "source": [
        "mail_data.shape"
      ],
      "execution_count": null,
      "outputs": [
        {
          "output_type": "execute_result",
          "data": {
            "text/plain": [
              "(5572, 2)"
            ]
          },
          "metadata": {},
          "execution_count": 16
        }
      ]
    },
    {
      "cell_type": "markdown",
      "metadata": {
        "id": "Tr8lWTuu2n08"
      },
      "source": [
        "3) LABEL ENCODING "
      ]
    },
    {
      "cell_type": "code",
      "metadata": {
        "id": "VkyXC5ue2stX"
      },
      "source": [
        "#LABELING the sapm as 0 and ham as 1\n",
        "\n",
        "mail_data.loc[mail_data['Category'] == 'spam', 'Category'] = 0\n",
        "mail_data.loc[mail_data['Category'] == 'ham', 'Category'] = 1"
      ],
      "execution_count": null,
      "outputs": []
    },
    {
      "cell_type": "markdown",
      "metadata": {
        "id": "RcspnADT4Lxk"
      },
      "source": [
        "spam = 0\n",
        "\n",
        "ham = 0"
      ]
    },
    {
      "cell_type": "markdown",
      "metadata": {
        "id": "aVR1cJK15lls"
      },
      "source": [
        "4) SEPARATING DATA AS TEXTS AND LABELS"
      ]
    },
    {
      "cell_type": "code",
      "metadata": {
        "id": "9YjnOzqr4SbA"
      },
      "source": [
        "#Target variable as y (Category) and input or feature variable as x (Messages)\n",
        "\n",
        "#Separting the data as texts and labels\n",
        "x = mail_data['Message']\n",
        "\n",
        "y = mail_data['Category']"
      ],
      "execution_count": null,
      "outputs": []
    },
    {
      "cell_type": "code",
      "metadata": {
        "colab": {
          "base_uri": "https://localhost:8080/"
        },
        "id": "BA6b7fax5j3w",
        "outputId": "e1768319-8a83-4b3d-af1f-2965a3f256d6"
      },
      "source": [
        "print(y)"
      ],
      "execution_count": null,
      "outputs": [
        {
          "output_type": "stream",
          "name": "stdout",
          "text": [
            "0       1\n",
            "1       1\n",
            "2       0\n",
            "3       1\n",
            "4       1\n",
            "       ..\n",
            "5567    0\n",
            "5568    1\n",
            "5569    1\n",
            "5570    1\n",
            "5571    1\n",
            "Name: Category, Length: 5572, dtype: object\n"
          ]
        }
      ]
    },
    {
      "cell_type": "code",
      "metadata": {
        "colab": {
          "base_uri": "https://localhost:8080/"
        },
        "id": "IeZnp0RV5reE",
        "outputId": "df510986-e6d2-4543-ebf7-308aab567c92"
      },
      "source": [
        "print(x)"
      ],
      "execution_count": null,
      "outputs": [
        {
          "output_type": "stream",
          "name": "stdout",
          "text": [
            "0       Go until jurong point, crazy.. Available only ...\n",
            "1                           Ok lar... Joking wif u oni...\n",
            "2       Free entry in 2 a wkly comp to win FA Cup fina...\n",
            "3       U dun say so early hor... U c already then say...\n",
            "4       Nah I don't think he goes to usf, he lives aro...\n",
            "                              ...                        \n",
            "5567    This is the 2nd time we have tried 2 contact u...\n",
            "5568                 Will ü b going to esplanade fr home?\n",
            "5569    Pity, * was in mood for that. So...any other s...\n",
            "5570    The guy did some bitching but I acted like i'd...\n",
            "5571                           Rofl. Its true to its name\n",
            "Name: Message, Length: 5572, dtype: object\n"
          ]
        }
      ]
    },
    {
      "cell_type": "markdown",
      "metadata": {
        "id": "_sgTau0X7bjP"
      },
      "source": [
        "5) SPLITTING DATA INTO TEST DATA AND TRAINING DATA"
      ]
    },
    {
      "cell_type": "code",
      "metadata": {
        "id": "nz-BU9tj5u-F"
      },
      "source": [
        "x_train, x_test, y_train, y_test = train_test_split(x, y, test_size = 0.2, random_state = 3)\n",
        "\n",
        "#Generally we give more data points to trainign data nearly 80% and less to testing data"
      ],
      "execution_count": null,
      "outputs": []
    },
    {
      "cell_type": "code",
      "metadata": {
        "colab": {
          "base_uri": "https://localhost:8080/"
        },
        "id": "SbU9SdvK8MGv",
        "outputId": "fff55dc6-ea12-4f80-ae2f-8dc77e9b85f3"
      },
      "source": [
        "print(x.shape)\n",
        "print(x_train.shape)\n",
        "x_test.shape"
      ],
      "execution_count": null,
      "outputs": [
        {
          "output_type": "stream",
          "name": "stdout",
          "text": [
            "(5572,)\n",
            "(4457,)\n"
          ]
        },
        {
          "output_type": "execute_result",
          "data": {
            "text/plain": [
              "(1115,)"
            ]
          },
          "metadata": {},
          "execution_count": 10
        }
      ]
    },
    {
      "cell_type": "markdown",
      "metadata": {
        "id": "cYF9Ldiy9tO5"
      },
      "source": [
        "6) FEATURE EXTRACTION"
      ]
    },
    {
      "cell_type": "code",
      "metadata": {
        "id": "xzGYSDEG9wqD"
      },
      "source": [
        "#transform the text data to feature vectors that can be used as input in Ligistic Rgression\n",
        "\n",
        "feature_extraction = TfidfVectorizer(min_df = 1, stop_words='english', lowercase= True)\n",
        "\n",
        "#TfidfVectorizer gives a word repeated most a score and same for less.\n",
        "#it helps in identyfying spam as wrods like free, discount will get a score and can predict spam easily\n",
        "\n",
        "# 'min_df' means to ignore the words which has score less than 1 because they are irrelevant as they are not repeated.\n",
        "# 'stop_words' means to ignore words like is, for, the, etc. which has no meaning.\n",
        "# 'lowercase' means to convert all words to lowercase alphabets\n",
        "\n",
        "\n",
        "x_train_features = feature_extraction.fit_transform(x_train)   # It will do 2 tasks , fit all the mails in vectorizer function and transform all data into feature values\n",
        "\n",
        "x_test_features = feature_extraction.transform(x_test)\n",
        "\n",
        "#Converting y_train, y_test values into integers\n",
        "\n",
        "y_train = y_train.astype('int')\n",
        "y_test = y_test.astype('int')"
      ],
      "execution_count": null,
      "outputs": []
    },
    {
      "cell_type": "code",
      "metadata": {
        "id": "-60GbSZa8S6U"
      },
      "source": [
        "print(x_train_features)"
      ],
      "execution_count": null,
      "outputs": []
    },
    {
      "cell_type": "markdown",
      "metadata": {
        "id": "bPVoV-LoAoL1"
      },
      "source": [
        "7) TRAINING MODEL"
      ]
    },
    {
      "cell_type": "markdown",
      "metadata": {
        "id": "9gagmJq2AuJ_"
      },
      "source": [
        "LOGISTIC REGRESSION"
      ]
    },
    {
      "cell_type": "code",
      "metadata": {
        "colab": {
          "base_uri": "https://localhost:8080/"
        },
        "id": "k2RX1e2XAvxW",
        "outputId": "c2a839b2-1ed9-4ade-f478-ce70873789f8"
      },
      "source": [
        "model = LogisticRegression()\n",
        "\n",
        "#training the Logistic Regression model with training data\n",
        "model.fit(x_train_features, y_train)"
      ],
      "execution_count": null,
      "outputs": [
        {
          "output_type": "execute_result",
          "data": {
            "text/plain": [
              "LogisticRegression()"
            ]
          },
          "metadata": {},
          "execution_count": 17
        }
      ]
    },
    {
      "cell_type": "markdown",
      "metadata": {
        "id": "pCahlV7kDH1O"
      },
      "source": [
        "8) EVALUATING TRAINED MODEL"
      ]
    },
    {
      "cell_type": "code",
      "metadata": {
        "colab": {
          "base_uri": "https://localhost:8080/"
        },
        "id": "VTMxqGPg_u-M",
        "outputId": "376e8f8b-e55a-4603-ebc9-9a537f454748"
      },
      "source": [
        "# prediction on training data so we can check how many mails it can detect spam or ham\n",
        "\n",
        "prediction_on_training_data = model.predict(x_train_features)\n",
        "accuracy_on_training_data = accuracy_score(y_train, prediction_on_training_data)\n",
        "print('Accuarcy of our model =', accuracy_on_training_data )"
      ],
      "execution_count": null,
      "outputs": [
        {
          "output_type": "stream",
          "name": "stdout",
          "text": [
            "Accuarcy of our model = 0.9670181736594121\n"
          ]
        }
      ]
    },
    {
      "cell_type": "markdown",
      "metadata": {
        "id": "P0UQ5iS2EI4a"
      },
      "source": [
        "9) EVALUATING TEST MODEL"
      ]
    },
    {
      "cell_type": "code",
      "metadata": {
        "colab": {
          "base_uri": "https://localhost:8080/"
        },
        "id": "PnVvjDsAD0rr",
        "outputId": "4c538afc-6925-43e8-d53f-5f1bfa50f83f"
      },
      "source": [
        "prediction_on_test_data = model.predict(x_test_features)\n",
        "accuracy_on_test_data = accuracy_score(y_test, prediction_on_test_data)\n",
        "print('Accuarcy of our model =', accuracy_on_test_data )"
      ],
      "execution_count": null,
      "outputs": [
        {
          "output_type": "stream",
          "name": "stdout",
          "text": [
            "Accuarcy of our model = 0.9659192825112107\n"
          ]
        }
      ]
    },
    {
      "cell_type": "markdown",
      "metadata": {
        "id": "wh9XmsljJNTR"
      },
      "source": [
        "10) BUILDING A PREDICTIVE SYSTEM"
      ]
    },
    {
      "cell_type": "code",
      "metadata": {
        "colab": {
          "base_uri": "https://localhost:8080/"
        },
        "id": "Kvlr6dOyJSnp",
        "outputId": "f6212b6e-b947-43bc-a758-c4140f6370d7"
      },
      "source": [
        "input_mail = [\"URGENT! You have won a 1 week FREE membership in our £100,000 Prize Jackpot! Txt the word: CLAIM to No: 81010 T&C www.dbuk.net LCCLTD POBOX 4403LDNW1A7RW18\"]\n",
        "\n",
        "#Converting text to feature vectors\n",
        "\n",
        "input_data_features = feature_extraction.transform(input_mail)\n",
        "\n",
        "#making prediction\n",
        "\n",
        "prediction = model.predict(input_data_features)\n",
        "print(prediction)\n",
        "\n",
        "\n",
        "if prediction[0] == 1:\n",
        "  print('This is a ham mail')\n",
        "else: \n",
        "  print('This is a spam mail')"
      ],
      "execution_count": null,
      "outputs": [
        {
          "output_type": "stream",
          "name": "stdout",
          "text": [
            "[0]\n",
            "This is a spam mail\n"
          ]
        }
      ]
    },
    {
      "cell_type": "code",
      "metadata": {
        "id": "fTu7XJL2ObNG"
      },
      "source": [
        ""
      ],
      "execution_count": null,
      "outputs": []
    }
  ]
}